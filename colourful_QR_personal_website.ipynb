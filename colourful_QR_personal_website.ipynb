{
 "cells": [
  {
   "cell_type": "code",
   "execution_count": 4,
   "id": "594f80a5",
   "metadata": {},
   "outputs": [
    {
     "name": "stdout",
     "output_type": "stream",
     "text": [
      "Requirement already satisfied: qrcode[pil] in /opt/anaconda3/lib/python3.8/site-packages (7.3.1)\n",
      "Requirement already satisfied: pillow in /opt/anaconda3/lib/python3.8/site-packages (from qrcode[pil]) (8.2.0)\n",
      "Requirement already satisfied: qrcode[pil] in /opt/anaconda3/lib/python3.8/site-packages (7.3.1)\n",
      "Requirement already satisfied: pillow in /opt/anaconda3/lib/python3.8/site-packages (from qrcode[pil]) (8.2.0)\n"
     ]
    }
   ],
   "source": [
    "!pip install qrcode[pil]\n",
    "!pip install qrcode\"[pil]\""
   ]
  },
  {
   "cell_type": "code",
   "execution_count": 10,
   "id": "49956c52",
   "metadata": {},
   "outputs": [],
   "source": [
    "import qrcode\n",
    "qr = qrcode.QRCode(\n",
    "    version=1,\n",
    "    error_correction=qrcode.constants.ERROR_CORRECT_L,\n",
    "    box_size=10,\n",
    "    border=4,\n",
    ")\n",
    "qr.add_data('https://taoo0316.github.io/')\n",
    "qr.make(fit=True)\n",
    "\n",
    "img = qr.make_image(back_color=(255, 195, 235), fill_color=(55, 95, 35))"
   ]
  },
  {
   "cell_type": "code",
   "execution_count": 11,
   "id": "8caecaf7",
   "metadata": {},
   "outputs": [],
   "source": [
    "img.show()"
   ]
  }
 ],
 "metadata": {
  "kernelspec": {
   "display_name": "Python 3",
   "language": "python",
   "name": "python3"
  },
  "language_info": {
   "codemirror_mode": {
    "name": "ipython",
    "version": 3
   },
   "file_extension": ".py",
   "mimetype": "text/x-python",
   "name": "python",
   "nbconvert_exporter": "python",
   "pygments_lexer": "ipython3",
   "version": "3.8.8"
  }
 },
 "nbformat": 4,
 "nbformat_minor": 5
}
